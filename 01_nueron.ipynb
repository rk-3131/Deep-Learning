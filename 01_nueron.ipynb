{
 "cells": [
  {
   "cell_type": "code",
   "execution_count": 2,
   "id": "3c109aeb",
   "metadata": {},
   "outputs": [],
   "source": [
    "# Whenever we want to classify the datapoints based on linear regression then there will be some issues\n",
    "# Hence we can use logistic regression which works on sigmoid function rather than just working on linear relations\n",
    "# Formula for sigmoid function is f = 1 + (1 + e^-z) where z is euler's number e = 2.71828"
   ]
  },
  {
   "cell_type": "code",
   "execution_count": 3,
   "id": "5b30f084",
   "metadata": {},
   "outputs": [],
   "source": [
    "# This sigmoid function is used to convert all the input values in the range of 0 to 1"
   ]
  },
  {
   "cell_type": "code",
   "execution_count": 4,
   "id": "b6aa4ad3",
   "metadata": {},
   "outputs": [],
   "source": [
    "# The sigmoid function will use the values that are used in case of y = mx + b and that value of y will now be used in the sigmoid\n",
    "# function to convert it into range of 0 to 1\n",
    "# Hence formula will now be z = 1 / (1 + e^-y)"
   ]
  },
  {
   "cell_type": "code",
   "execution_count": 5,
   "id": "6d8e1dac",
   "metadata": {},
   "outputs": [],
   "source": [
    "# hence linear regression will classify as either this or that not in between"
   ]
  },
  {
   "cell_type": "code",
   "execution_count": 6,
   "id": "175aaa20",
   "metadata": {},
   "outputs": [],
   "source": [
    "# now whenever we are using the functions in combination with one another this is the point where we detect that these are two\n",
    "# differnt functions "
   ]
  },
  {
   "cell_type": "markdown",
   "id": "3e66126e",
   "metadata": {},
   "source": [
    "first function will give us the value of y from y = mx + b and then after we get the whole values of y then that can be applied to the sigmoid function z = 1 / (1 + e^-y)\n",
    "Here first part and second part is called as activation part as it either give us output in form of 0 or 1"
   ]
  },
  {
   "cell_type": "markdown",
   "id": "3604f92a",
   "metadata": {},
   "source": [
    "To demonstrate the concept of neurons we will now consider the group of people having differnt set of features and hence that then can be combined together to draw a final conclusion if particular thing belongs to particular group or not\n",
    "for detecting the animal let indiviidual will detect and work on eye, nose, ears and then they will give their results to one person who will decide if the overall face belongs to any group or not. This person will detect that using a equation like eye * number + nose * number2 + ears * number3 and then we will get a value between 0 to 1 if a face is of particular animal or not\n",
    "Here number, number1 and number2 are from values whose sum will be 1 and more value will be to that feature which has more prominant weights\n",
    "Hence after face one group will work and then decide on the body and then it can be used in the future prediction of whole animal"
   ]
  },
  {
   "cell_type": "markdown",
   "id": "ba55af66",
   "metadata": {},
   "source": [
    "Then this final result will now be taken to some kind of supervisor which will tell if the result is true or false \n",
    "This feedback is given back to other agents to the root node\n",
    "This feedback will then be used in the future and hence is called as backward error propagation"
   ]
  },
  {
   "cell_type": "code",
   "execution_count": null,
   "id": "17474b80",
   "metadata": {},
   "outputs": [],
   "source": []
  }
 ],
 "metadata": {
  "kernelspec": {
   "display_name": "Python 3 (ipykernel)",
   "language": "python",
   "name": "python3"
  },
  "language_info": {
   "codemirror_mode": {
    "name": "ipython",
    "version": 3
   },
   "file_extension": ".py",
   "mimetype": "text/x-python",
   "name": "python",
   "nbconvert_exporter": "python",
   "pygments_lexer": "ipython3",
   "version": "3.10.2"
  }
 },
 "nbformat": 4,
 "nbformat_minor": 5
}
